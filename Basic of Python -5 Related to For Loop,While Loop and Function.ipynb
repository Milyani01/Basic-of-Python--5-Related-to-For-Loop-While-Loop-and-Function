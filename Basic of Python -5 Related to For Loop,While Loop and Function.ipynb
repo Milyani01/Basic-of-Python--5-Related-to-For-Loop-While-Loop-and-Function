{
 "cells": [
  {
   "cell_type": "markdown",
   "id": "e6569caa",
   "metadata": {},
   "source": [
    "1. Use a for loop to print numbers from 1 to 5"
   ]
  },
  {
   "cell_type": "code",
   "execution_count": 1,
   "id": "5ec4a723",
   "metadata": {},
   "outputs": [
    {
     "name": "stdout",
     "output_type": "stream",
     "text": [
      "1\n",
      "2\n",
      "3\n",
      "4\n",
      "5\n"
     ]
    }
   ],
   "source": [
    "for i in range(1,6):\n",
    "    print(i)"
   ]
  },
  {
   "cell_type": "code",
   "execution_count": 2,
   "id": "86f0d068",
   "metadata": {},
   "outputs": [
    {
     "name": "stdout",
     "output_type": "stream",
     "text": [
      "1\n",
      "2\n",
      "3\n",
      "4\n",
      "5\n"
     ]
    }
   ],
   "source": [
    "i=1\n",
    "while (i<=5):\n",
    "    print(i)\n",
    "    i=i+1\n",
    "    "
   ]
  },
  {
   "cell_type": "code",
   "execution_count": 3,
   "id": "54d1ebe3",
   "metadata": {},
   "outputs": [
    {
     "name": "stdout",
     "output_type": "stream",
     "text": [
      "1\n",
      "2\n",
      "3\n",
      "4\n",
      "5\n"
     ]
    }
   ],
   "source": [
    "def print_element():\n",
    "    i=1\n",
    "    while i<=5:\n",
    "        print(i)\n",
    "        i=i+1\n",
    "\n",
    "print_element()"
   ]
  },
  {
   "cell_type": "code",
   "execution_count": 4,
   "id": "ef3c2eca",
   "metadata": {},
   "outputs": [
    {
     "name": "stdout",
     "output_type": "stream",
     "text": [
      "1\n",
      "2\n",
      "3\n",
      "4\n"
     ]
    }
   ],
   "source": [
    "def print_element(end):\n",
    "    for i in range(1,end+1):\n",
    "        print(i)\n",
    "        \n",
    "print_element(4)"
   ]
  },
  {
   "cell_type": "markdown",
   "id": "2474265d",
   "metadata": {},
   "source": [
    "2. Calculate and print the  squares of numbers from 1 to 5."
   ]
  },
  {
   "cell_type": "code",
   "execution_count": 5,
   "id": "336ed5ad",
   "metadata": {},
   "outputs": [
    {
     "name": "stdout",
     "output_type": "stream",
     "text": [
      "1\n",
      "4\n",
      "9\n",
      "16\n",
      "25\n"
     ]
    }
   ],
   "source": [
    "\n",
    "for i in range(1,6):\n",
    "    square=i*i\n",
    "    i=i+1\n",
    "    print(square)"
   ]
  },
  {
   "cell_type": "code",
   "execution_count": 6,
   "id": "1d1d3047",
   "metadata": {},
   "outputs": [
    {
     "name": "stdout",
     "output_type": "stream",
     "text": [
      "1\n",
      "4\n",
      "9\n",
      "16\n",
      "25\n"
     ]
    }
   ],
   "source": [
    "i=1\n",
    "while i<=5:\n",
    "    print(i*i)\n",
    "    i=i+1"
   ]
  },
  {
   "cell_type": "code",
   "execution_count": 7,
   "id": "6a9aa377",
   "metadata": {},
   "outputs": [
    {
     "data": {
      "text/plain": [
       "4"
      ]
     },
     "execution_count": 7,
     "metadata": {},
     "output_type": "execute_result"
    }
   ],
   "source": [
    "def square_of_num(num):\n",
    "    square=num*num\n",
    "    return square\n",
    "square_of_num(2)"
   ]
  },
  {
   "cell_type": "code",
   "execution_count": 8,
   "id": "67459c29",
   "metadata": {},
   "outputs": [
    {
     "name": "stdout",
     "output_type": "stream",
     "text": [
      "1\n",
      "4\n",
      "9\n",
      "16\n"
     ]
    }
   ],
   "source": [
    "def square_of_num(num):\n",
    "    for i in range(1,num+1):\n",
    "        print(i**2)\n",
    "\n",
    "square_of_num(4)       "
   ]
  },
  {
   "cell_type": "code",
   "execution_count": 9,
   "id": "72427bcc",
   "metadata": {},
   "outputs": [
    {
     "name": "stdout",
     "output_type": "stream",
     "text": [
      "[1, 4, 9, 16, 25]\n"
     ]
    }
   ],
   "source": [
    "square=[ i**2 for i in range(1,6)]\n",
    "print(square)"
   ]
  },
  {
   "cell_type": "markdown",
   "id": "f79f9f0d",
   "metadata": {},
   "source": [
    "3. Calculate and print the sum of squares of numbers from 1 to 5."
   ]
  },
  {
   "cell_type": "code",
   "execution_count": 10,
   "id": "5c76bdda",
   "metadata": {},
   "outputs": [
    {
     "name": "stdout",
     "output_type": "stream",
     "text": [
      "55\n"
     ]
    }
   ],
   "source": [
    "sum_square=0\n",
    "for i in range(1,6):\n",
    "    sum_square=sum_square+(i**2)\n",
    "    i=i+1\n",
    "print(sum_square)"
   ]
  },
  {
   "cell_type": "code",
   "execution_count": 11,
   "id": "0711aa88",
   "metadata": {},
   "outputs": [
    {
     "name": "stdout",
     "output_type": "stream",
     "text": [
      "55\n"
     ]
    }
   ],
   "source": [
    "sum_square=0\n",
    "i=1\n",
    "while i<=5:\n",
    "    sum_square=sum_square+(i**2)\n",
    "    i=i+1\n",
    "print(sum_square)\n",
    "    \n",
    "    "
   ]
  },
  {
   "cell_type": "code",
   "execution_count": 12,
   "id": "2267de59",
   "metadata": {},
   "outputs": [
    {
     "name": "stdout",
     "output_type": "stream",
     "text": [
      "55\n"
     ]
    }
   ],
   "source": [
    "def sum_square(num):\n",
    "    square=0\n",
    "    for i in range(1,num+1):\n",
    "        square=square+(i**2)\n",
    "    return square\n",
    "\n",
    "print(sum_square(5))     "
   ]
  },
  {
   "cell_type": "code",
   "execution_count": 13,
   "id": "ff6eb7c9",
   "metadata": {},
   "outputs": [
    {
     "data": {
      "text/plain": [
       "55"
      ]
     },
     "execution_count": 13,
     "metadata": {},
     "output_type": "execute_result"
    }
   ],
   "source": [
    "sum_square=sum([i**2 for i in range(1,6)])\n",
    "sum_square"
   ]
  },
  {
   "cell_type": "markdown",
   "id": "60661a7a",
   "metadata": {},
   "source": [
    "4 .Write a program that takes a number as input and prints the first 5 multiples of that number using a for loop."
   ]
  },
  {
   "cell_type": "code",
   "execution_count": 14,
   "id": "cf6cd639",
   "metadata": {},
   "outputs": [
    {
     "name": "stdout",
     "output_type": "stream",
     "text": [
      "Enter Number to get first 5 multiple of that number = 4\n",
      "first 5 multiple of 4 are, \n",
      "4 X 1 = 4\n",
      "4 X 2 = 8\n",
      "4 X 3 = 12\n",
      "4 X 4 = 16\n",
      "4 X 5 = 20\n"
     ]
    }
   ],
   "source": [
    "input_user=int(input(\"Enter Number to get first 5 multiple of that number = \"))\n",
    "print(f\"first 5 multiple of {input_user} are, \")\n",
    "num=1\n",
    "for num in range(1,6):\n",
    "    first_5_multiple=input_user*num\n",
    "    print(f\"{input_user} X {num} = {first_5_multiple}\")\n",
    "    \n",
    "    \n",
    "    \n",
    "    "
   ]
  },
  {
   "cell_type": "code",
   "execution_count": 15,
   "id": "e99d5cd2",
   "metadata": {},
   "outputs": [
    {
     "name": "stdout",
     "output_type": "stream",
     "text": [
      "Enter Number to get first 5 multiple of that number = 4\n",
      "4 X 1 = 4\n",
      "4 X 2 = 8\n",
      "4 X 3 = 12\n",
      "4 X 4 = 16\n",
      "4 X 5 = 20\n"
     ]
    }
   ],
   "source": [
    "input_user=int(input(\"Enter Number to get first 5 multiple of that number = \"))\n",
    "i=1\n",
    "while i<=5:\n",
    "    first_5_multiple=input_user*i\n",
    "    print(f\"{input_user} X {i} = {first_5_multiple}\")\n",
    "    i=i+1\n",
    "    "
   ]
  },
  {
   "cell_type": "code",
   "execution_count": 16,
   "id": "cc7170dc",
   "metadata": {},
   "outputs": [
    {
     "name": "stdout",
     "output_type": "stream",
     "text": [
      "4 X 1 = 4\n",
      "4 X 2 = 8\n",
      "4 X 3 = 12\n",
      "4 X 4 = 16\n",
      "4 X 5 = 20\n"
     ]
    }
   ],
   "source": [
    "def first_5_multiple(num):\n",
    "    i=1\n",
    "    while i<=5:\n",
    "        multiple=num*i\n",
    "        print(f\"{num} X {i} = {multiple}\")\n",
    "        i=i+1\n",
    "first_5_multiple(4)"
   ]
  },
  {
   "cell_type": "markdown",
   "id": "740c6245",
   "metadata": {},
   "source": [
    "5. Take a number as input and use a for loop to print the multiplication table for that number from 1 to 10."
   ]
  },
  {
   "cell_type": "code",
   "execution_count": 17,
   "id": "74fc4c5b",
   "metadata": {},
   "outputs": [
    {
     "name": "stdout",
     "output_type": "stream",
     "text": [
      "Enter Any Number to know table of that = 4\n",
      "4 X 1 = 4\n",
      "4 X 2 = 8\n",
      "4 X 3 = 12\n",
      "4 X 4 = 16\n",
      "4 X 5 = 20\n",
      "4 X 6 = 24\n",
      "4 X 7 = 28\n",
      "4 X 8 = 32\n",
      "4 X 9 = 36\n",
      "4 X 10 = 40\n"
     ]
    }
   ],
   "source": [
    "num=int(input(\"Enter Any Number to know table of that = \"))\n",
    "for i in range(1,11):\n",
    "    multi_table=num*i\n",
    "    print(f\"{num} X {i} = {multi_table}\")\n",
    "    "
   ]
  },
  {
   "cell_type": "code",
   "execution_count": 18,
   "id": "6c6b37cf",
   "metadata": {},
   "outputs": [
    {
     "name": "stdout",
     "output_type": "stream",
     "text": [
      "Enter Any Number to know table of that = 4\n",
      "4 X 1 = 4\n",
      "4 X 2 = 8\n",
      "4 X 3 = 12\n",
      "4 X 4 = 16\n",
      "4 X 5 = 20\n",
      "4 X 6 = 24\n",
      "4 X 7 = 28\n",
      "4 X 8 = 32\n",
      "4 X 9 = 36\n",
      "4 X 10 = 40\n"
     ]
    }
   ],
   "source": [
    "num=int(input(\"Enter Any Number to know table of that = \"))\n",
    "i=1\n",
    "while i<=10:\n",
    "    multi_table=num*i\n",
    "    print(f\"{num} X {i} = {multi_table}\")\n",
    "    i=i+1"
   ]
  },
  {
   "cell_type": "code",
   "execution_count": 19,
   "id": "2f48307c",
   "metadata": {},
   "outputs": [
    {
     "name": "stdout",
     "output_type": "stream",
     "text": [
      "3 X 1 = 3\n",
      "3 X 2 = 6\n",
      "3 X 3 = 9\n",
      "3 X 4 = 12\n",
      "3 X 5 = 15\n",
      "3 X 6 = 18\n",
      "3 X 7 = 21\n",
      "3 X 8 = 24\n",
      "3 X 9 = 27\n",
      "3 X 10 = 30\n"
     ]
    }
   ],
   "source": [
    "def multiplication_table(num):\n",
    "    i=1\n",
    "    while i<=10:\n",
    "        multi_table=num*i\n",
    "        print(f\"{num} X {i} = {multi_table}\")\n",
    "        i=i+1\n",
    "multiplication_table(3)"
   ]
  },
  {
   "cell_type": "code",
   "execution_count": 20,
   "id": "f34a3e4e",
   "metadata": {},
   "outputs": [
    {
     "name": "stdout",
     "output_type": "stream",
     "text": [
      "4 X 11 = [11, 22, 33, 44, 55, 66, 77, 88, 99, 110]\n"
     ]
    }
   ],
   "source": [
    "multi_table=[ num*i for num in range(1,11) ]\n",
    "print(f\"{num} X {i} = {multi_table}\")"
   ]
  },
  {
   "cell_type": "markdown",
   "id": "f3c49149",
   "metadata": {},
   "source": [
    "5. Develop a program that check whether a given number is prime or not."
   ]
  },
  {
   "cell_type": "code",
   "execution_count": 6,
   "id": "c8c501c2",
   "metadata": {},
   "outputs": [
    {
     "name": "stdout",
     "output_type": "stream",
     "text": [
      "Enter Any Number to check weather it is prime or not = 4\n",
      "4 is not prime number\n"
     ]
    }
   ],
   "source": [
    "num=int(input(\"Enter Any Number to check weather it is prime or not = \"))\n",
    "prime=True\n",
    "for i in range(2,num):\n",
    "    if num%i==0:\n",
    "        prime=False\n",
    "        break\n",
    "if (prime==True):\n",
    "    print(f\"{num} is prime number\")\n",
    "else:\n",
    "    print(f\"{num} is not prime number\")\n"
   ]
  },
  {
   "cell_type": "code",
   "execution_count": 10,
   "id": "83cd9f1a",
   "metadata": {},
   "outputs": [
    {
     "name": "stdout",
     "output_type": "stream",
     "text": [
      "Enter Any Number to check weather it is prime or not = 3\n",
      "prime\n"
     ]
    }
   ],
   "source": [
    "num=int(input(\"Enter Any Number to check weather it is prime or not = \"))\n",
    "count=0\n",
    "i=1\n",
    "while i<=num:\n",
    "    if num%i==0:\n",
    "        count=count+1\n",
    "    i=i+1\n",
    "if(count==2):\n",
    "    print(\"prime\")\n",
    "else:\n",
    "    print(\"not Prime\")"
   ]
  },
  {
   "cell_type": "code",
   "execution_count": 26,
   "id": "8a9b1248",
   "metadata": {},
   "outputs": [
    {
     "name": "stdout",
     "output_type": "stream",
     "text": [
      "4 is not prime\n"
     ]
    }
   ],
   "source": [
    "def prime_or_not_prime(num):\n",
    "    prime=True\n",
    "    for i in range(2,num):\n",
    "        if num%i==0:\n",
    "            prime=False\n",
    "            break\n",
    "    if prime==True:\n",
    "        print(f\"{num} is prime\")\n",
    "    else:\n",
    "        print(f\"{num} is not prime\")\n",
    "    \n",
    "prime_or_not_prime(4)"
   ]
  },
  {
   "cell_type": "markdown",
   "id": "a543461e",
   "metadata": {},
   "source": [
    "6. Create a program to find largest element in the list."
   ]
  },
  {
   "cell_type": "code",
   "execution_count": 47,
   "id": "a941733e",
   "metadata": {},
   "outputs": [
    {
     "name": "stdout",
     "output_type": "stream",
     "text": [
      "9876\n"
     ]
    }
   ],
   "source": [
    "given_list=[12,34,56,43,23,24,678,9876,3456,0]\n",
    "greatest_num=given_list[0]\n",
    "for num in given_list:\n",
    "    if num>greatest_num:\n",
    "        greatest_num=num\n",
    "print(greatest_num)\n",
    "    "
   ]
  },
  {
   "cell_type": "code",
   "execution_count": 3,
   "id": "0be1102a",
   "metadata": {},
   "outputs": [
    {
     "name": "stdout",
     "output_type": "stream",
     "text": [
      "67\n"
     ]
    }
   ],
   "source": [
    "def largest_element(my_list):\n",
    "    given_list=my_list[0]\n",
    "    for num in my_list:\n",
    "        if num>given_list:\n",
    "            given_list=num\n",
    "    return given_list\n",
    "my_list=[12,34,2,45,6,23,67,8]\n",
    "print(largest_element(my_list))"
   ]
  },
  {
   "cell_type": "code",
   "execution_count": 2,
   "id": "8072362f",
   "metadata": {},
   "outputs": [
    {
     "name": "stdout",
     "output_type": "stream",
     "text": [
      "[34, 56, 445]\n"
     ]
    }
   ],
   "source": [
    "def largest_element(my_list):\n",
    "    list2=[]\n",
    "    my_list1=my_list[0]\n",
    "    for num in my_list:\n",
    "        if num>my_list1:\n",
    "            my_list1=num\n",
    "            list2.append(num)\n",
    "    return list2\n",
    "my_list=[12,34,34,56,7,8,9,12,445]\n",
    "print(largest_element(my_list))"
   ]
  },
  {
   "cell_type": "markdown",
   "id": "665384c6",
   "metadata": {},
   "source": [
    "7. Write a Python program to reverse a given string."
   ]
  },
  {
   "cell_type": "code",
   "execution_count": 4,
   "id": "f7d1da85",
   "metadata": {},
   "outputs": [
    {
     "name": "stdout",
     "output_type": "stream",
     "text": [
      "Enter Any string to reverse = milyani\n",
      "inaylim\n"
     ]
    }
   ],
   "source": [
    "string=input(\"Enter Any string to reverse = \")\n",
    "for words in string:\n",
    "    words=string[::-1]\n",
    "print(words)"
   ]
  },
  {
   "cell_type": "code",
   "execution_count": 6,
   "id": "c9b14f36",
   "metadata": {},
   "outputs": [
    {
     "name": "stdout",
     "output_type": "stream",
     "text": [
      "inaylim\n"
     ]
    }
   ],
   "source": [
    "def reverse_word(string):\n",
    "    reverse=string[::-1]\n",
    "    return reverse\n",
    "print(reverse_word(\"milyani\"))"
   ]
  },
  {
   "cell_type": "markdown",
   "id": "6f537ba7",
   "metadata": {},
   "source": [
    "8. Develop a Python program that calculates the sum of all numbers from 1 to 100 ."
   ]
  },
  {
   "cell_type": "code",
   "execution_count": 14,
   "id": "4bd9d619",
   "metadata": {},
   "outputs": [
    {
     "name": "stdout",
     "output_type": "stream",
     "text": [
      "5050\n"
     ]
    }
   ],
   "source": [
    "sum_of_all=0\n",
    "for i in range(1,101):\n",
    "    sum_of_all=sum_of_all+i\n",
    "    i=i+1\n",
    "print(sum_of_all)"
   ]
  },
  {
   "cell_type": "code",
   "execution_count": 33,
   "id": "57448cb3",
   "metadata": {},
   "outputs": [
    {
     "name": "stdout",
     "output_type": "stream",
     "text": [
      "5050\n"
     ]
    }
   ],
   "source": [
    "sum_of_all=0\n",
    "num=1\n",
    "while num<=100:\n",
    "    sum_of_all=sum_of_all+num\n",
    "    num=num+1\n",
    "print(sum_of_all)  "
   ]
  },
  {
   "cell_type": "code",
   "execution_count": 49,
   "id": "c12ee44a",
   "metadata": {},
   "outputs": [
    {
     "name": "stdout",
     "output_type": "stream",
     "text": [
      "5050\n"
     ]
    }
   ],
   "source": [
    "def sum_of_all():\n",
    "    final_sum=0\n",
    "    for num in range(1,101):\n",
    "        final_sum=final_sum+num\n",
    "        num=num+1\n",
    "    return final_sum\n",
    "    \n",
    "print(sum_of_all())"
   ]
  },
  {
   "cell_type": "markdown",
   "id": "40a9a585",
   "metadata": {},
   "source": [
    "9. Write a Python program to find the factorial of a number"
   ]
  },
  {
   "cell_type": "code",
   "execution_count": 21,
   "id": "77378188",
   "metadata": {},
   "outputs": [
    {
     "name": "stdout",
     "output_type": "stream",
     "text": [
      "Enter any number 10\n",
      "3628800\n"
     ]
    }
   ],
   "source": [
    "number=int(input(\"Enter any number \"))\n",
    "factorial=1\n",
    "for i in range(1,number+1):\n",
    "    factorial=factorial*i\n",
    "    number=number-1\n",
    "print(factorial)"
   ]
  },
  {
   "cell_type": "code",
   "execution_count": 27,
   "id": "e4318f74",
   "metadata": {},
   "outputs": [
    {
     "name": "stdout",
     "output_type": "stream",
     "text": [
      "Enter any number 10\n",
      "3628800\n"
     ]
    }
   ],
   "source": [
    "number=int(input(\"Enter any number \"))\n",
    "factorial=1\n",
    "while (number>=1):\n",
    "    factorial=factorial*number\n",
    "    number=number-1\n",
    "print(factorial)"
   ]
  },
  {
   "cell_type": "code",
   "execution_count": 35,
   "id": "db557be5",
   "metadata": {},
   "outputs": [
    {
     "name": "stdout",
     "output_type": "stream",
     "text": [
      "3628800\n"
     ]
    }
   ],
   "source": [
    "def factorial(num):\n",
    "    factorial=1\n",
    "    while (num>=1):\n",
    "        factorial=factorial*num\n",
    "        num=num-1\n",
    "    print(factorial)\n",
    "        \n",
    "factorial(10)"
   ]
  },
  {
   "cell_type": "code",
   "execution_count": null,
   "id": "3f087d81",
   "metadata": {},
   "outputs": [],
   "source": []
  }
 ],
 "metadata": {
  "kernelspec": {
   "display_name": "Python 3 (ipykernel)",
   "language": "python",
   "name": "python3"
  },
  "language_info": {
   "codemirror_mode": {
    "name": "ipython",
    "version": 3
   },
   "file_extension": ".py",
   "mimetype": "text/x-python",
   "name": "python",
   "nbconvert_exporter": "python",
   "pygments_lexer": "ipython3",
   "version": "3.11.5"
  }
 },
 "nbformat": 4,
 "nbformat_minor": 5
}
